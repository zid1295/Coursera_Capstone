{
 "cells": [
  {
   "cell_type": "markdown",
   "metadata": {},
   "source": [
    "# Problem Statement\n",
    "The challenge to resolve is being able to find a rental apartment unit in Manhattan, New York that offers similar characteristics and benefits to my current situation. Therefore, in order to set a basis for comparison, I want to find a rental unit subject to the following conditions:\n",
    "\n",
    "- Apartment with min 2 bedrooms with monthly rent not to exceed $7000/month\n",
    "- Unit located within walking distance from a subway metro station in Manhattan\n",
    "- Area with ammenities and venues similar to the ones described for current location"
   ]
  },
  {
   "cell_type": "markdown",
   "metadata": {},
   "source": [
    "# Target Audience\n",
    "This could be used by anyone considering to move to a major city anywhere in the world, since the approach and methodologies used here are applicable in all cases. The use of FourSquare data and mapping techniques combined with data analysis will help resolve the key questions arisen."
   ]
  },
  {
   "cell_type": "markdown",
   "metadata": {},
   "source": [
    "## Data Requirements\n",
    "\n",
    "I have picked Gurgaon, Haryana in India as the current location for this Project. I will use Foursquare to identify the venues around the area of residence which are then shown in the Delhi NCR map. It serves as a reference for comparison with the desired future location in Manhattan, New York.\n",
    "\n",
    "The following activities are performed to gather data for the project.\n",
    "\n",
    "- Geodata for current residence in Gurgaon, Haryana with venues established by using Foursquare APIs.\n",
    "\n",
    "- List of Manhattan (MH) neighborhoods with clustered venues established via Foursquare APIs (https://en.wikipedia.org/wiki/List_of_Manhattan_neighborhoods#Midtown_neighborhoods)\n",
    "\n",
    "- List of subway metro stations in Manhattan with addresses and geo data (lat,long):\n",
    "(https://en.wikipedia.org/wiki/List_of_New_York_City_Subway_stations_in_Manhattan https://www.google.com/maps/search/manhattan+subway+metro+stations/@40.7837297,-74.1033043,11z/data=!3m1!4b1)\n",
    "\n",
    "- List of apartments for rent in Manhattan area with information on neighborhood location, address, number of beds, area size, monthly rent price and complemented with geo data via Nominatim. \n",
    "(http://www.rentmanhattan.com/index.cfm?page=search&state=results https://www.nestpick.com/search?city=new-york&page=1&order=relevance&display=grid&currency=USD)\n",
    "\n",
    "- Place to work in Manhattan (Park Avenue and 53rd St) for reference"
   ]
  },
  {
   "cell_type": "markdown",
   "metadata": {},
   "source": [
    "## Data Sources, Data Processing and Tools used\n",
    "\n",
    "- Gurgaon data and map is to be created by using Nominatim , Foursquare and Folium mapping.\n",
    "\n",
    "- Manhattan neighborhoods were obtained from Wikipedia and organized by Neighborhoods with geo data via Nominatim for mapping with Folium.\n",
    "\n",
    "- List of Subway stations was obtained via Wikipedia, NY Transit web site and Google map,\n",
    "\n",
    "- List of apartments for rent was consolidated from web-scraping real estate sites for MH. The geolocation (lat,long) data was found with algorithm coding and using Nominatim.\n",
    "\n",
    "- Folium map was the basis of mapping with various features to consolidate all data in ONE map where one can visualize all details needed to make a selection of apartment."
   ]
  }
 ],
 "metadata": {
  "kernelspec": {
   "display_name": "Python 3",
   "language": "python",
   "name": "python3"
  },
  "language_info": {
   "codemirror_mode": {
    "name": "ipython",
    "version": 3
   },
   "file_extension": ".py",
   "mimetype": "text/x-python",
   "name": "python",
   "nbconvert_exporter": "python",
   "pygments_lexer": "ipython3",
   "version": "3.7.3"
  }
 },
 "nbformat": 4,
 "nbformat_minor": 2
}
